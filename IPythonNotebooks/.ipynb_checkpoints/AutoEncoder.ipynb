{
 "cells": [
  {
   "cell_type": "code",
   "execution_count": 3,
   "metadata": {
    "collapsed": true
   },
   "outputs": [],
   "source": [
    "import tensorflow as tf\n",
    "import numpy as np\n",
    "import math\n",
    "\n",
    "input = np.array([[2.0, 1.0, 1.0, 2.0],\n",
    "                 [-2.0, 1.0, -1.0, 2.0],\n",
    "                 [0.0, 1.0, 0.0, 2.0],\n",
    "                 [0.0, -1.0, 0.0, -2.0],\n",
    "                 [0.0, -1.0, 0.0, -2.0]])"
   ]
  },
  {
   "cell_type": "code",
   "execution_count": 5,
   "metadata": {},
   "outputs": [],
   "source": [
    "# Code here for importing data from file\n",
    "noisy_input = input + .2 * np.random.random_sample((input.shape)) - .1\n",
    "output = input"
   ]
  },
  {
   "cell_type": "code",
   "execution_count": 7,
   "metadata": {},
   "outputs": [],
   "source": [
    "# Scale to [0,1]\n",
    "scaled_input_1 = np.divide((noisy_input-noisy_input.min()), (noisy_input.max()-noisy_input.min()))\n",
    "scaled_output_1 = np.divide((output-output.min()), (output.max()-output.min()))\n",
    "# Scale to [-1,1]\n",
    "scaled_input_2 = (scaled_input_1*2)-1\n",
    "scaled_output_2 = (scaled_output_1*2)-1\n",
    "\n",
    "input_data = scaled_input_2\n",
    "output_data = scaled_output_2"
   ]
  },
  {
   "cell_type": "code",
   "execution_count": 10,
   "metadata": {},
   "outputs": [
    {
     "name": "stdout",
     "output_type": "stream",
     "text": [
      "0, nan, 0.23155371844768524\n100, nan, 0.06299140304327011\n"
     ]
    },
    {
     "name": "stdout",
     "output_type": "stream",
     "text": [
      "200, nan, 0.01899726502597332\n300, nan, 0.01768414117395878\n"
     ]
    },
    {
     "name": "stdout",
     "output_type": "stream",
     "text": [
      "400, nan, 0.006352778524160385\n500, nan, 0.005387870594859123\n"
     ]
    },
    {
     "name": "stdout",
     "output_type": "stream",
     "text": [
      "600, nan, 0.009180870838463306\n700, nan, 0.008215400390326977\n"
     ]
    },
    {
     "name": "stdout",
     "output_type": "stream",
     "text": [
      "800, nan, 0.005759385880082846\n900, nan, 0.006430552341043949\n"
     ]
    },
    {
     "name": "stdout",
     "output_type": "stream",
     "text": [
      "1000, nan, 0.007032780442386866\n1100, nan, 0.0025782701559364796\n"
     ]
    },
    {
     "name": "stdout",
     "output_type": "stream",
     "text": [
      "1200, nan, 0.006146113388240337\n1300, nan, 0.004084210377186537\n"
     ]
    },
    {
     "name": "stdout",
     "output_type": "stream",
     "text": [
      "1400, nan, 0.0037414967082440853\n1500, nan, 0.00414376612752676\n"
     ]
    },
    {
     "name": "stdout",
     "output_type": "stream",
     "text": [
      "1600, nan, 0.003990876488387585\n1700, nan, 0.002765343990176916\n"
     ]
    },
    {
     "name": "stdout",
     "output_type": "stream",
     "text": [
      "1800, nan, 0.004019487649202347\n1900, nan, 0.00406342837959528\n"
     ]
    },
    {
     "name": "stdout",
     "output_type": "stream",
     "text": [
      "2000, nan, 0.005513571668416262\n2100, nan, 0.002464363584294915\n"
     ]
    },
    {
     "name": "stdout",
     "output_type": "stream",
     "text": [
      "2200, nan, 0.0037626896519213915\n2300, nan, 0.003409123048186302\n"
     ]
    },
    {
     "name": "stdout",
     "output_type": "stream",
     "text": [
      "2400, nan, 0.003578426782041788\n2500, nan, 0.004491464234888554\n"
     ]
    },
    {
     "name": "stdout",
     "output_type": "stream",
     "text": [
      "2600, 3.968991994857788, 0.005096647888422012\n2700, nan, 0.004506783094257116\n"
     ]
    },
    {
     "name": "stdout",
     "output_type": "stream",
     "text": [
      "2800, nan, 0.002713362919166684\n2900, nan, 0.0038308172952383757\n"
     ]
    },
    {
     "name": "stdout",
     "output_type": "stream",
     "text": [
      "3000, nan, 0.004181050229817629\n3100, nan, 0.0033578756265342236\n"
     ]
    },
    {
     "name": "stdout",
     "output_type": "stream",
     "text": [
      "3200, nan, 0.0037912956904619932\n3300, nan, 0.004282096400856972\n"
     ]
    },
    {
     "name": "stdout",
     "output_type": "stream",
     "text": [
      "3400, nan, 0.0037574772723019123\n3500, nan, 0.0025692065246403217\n"
     ]
    },
    {
     "name": "stdout",
     "output_type": "stream",
     "text": [
      "3600, nan, 0.0011610665824264288\n3700, nan, 0.003578420728445053\n"
     ]
    },
    {
     "name": "stdout",
     "output_type": "stream",
     "text": [
      "3800, nan, 0.001627272693440318\n"
     ]
    },
    {
     "name": "stdout",
     "output_type": "stream",
     "text": [
      "3900, nan, 0.0021631759591400623\n4000, nan, 0.0031828987412154675\n"
     ]
    },
    {
     "name": "stdout",
     "output_type": "stream",
     "text": [
      "4100, nan, 0.001439782907254994\n4200, nan, 0.0014970919582992792\n"
     ]
    },
    {
     "name": "stdout",
     "output_type": "stream",
     "text": [
      "4300, nan, 0.003315300215035677\n4400, nan, 0.002156168920919299\n"
     ]
    },
    {
     "name": "stdout",
     "output_type": "stream",
     "text": [
      "4500, nan, 0.0016888596583157778\n4600, nan, 0.004020431078970432\n"
     ]
    },
    {
     "name": "stdout",
     "output_type": "stream",
     "text": [
      "4700, nan, 0.0045936936512589455\n4800, nan, 0.0030898258555680513\n"
     ]
    },
    {
     "name": "stdout",
     "output_type": "stream",
     "text": [
      "4900, nan, 0.004609781317412853\n"
     ]
    }
   ],
   "source": [
    "# Autoencoder with 1 hidden layer\n",
    "n_samp, n_input = input_data.shape \n",
    "n_hidden = 2\n",
    "\n",
    "x = tf.placeholder(\"float\", [None, n_input])\n",
    "# Weights and biases to hidden layer\n",
    "Wh = tf.Variable(tf.random_uniform((n_input, n_hidden), -1.0 / math.sqrt(n_input), 1.0 / math.sqrt(n_input)))\n",
    "bh = tf.Variable(tf.zeros([n_hidden]))\n",
    "h = tf.nn.tanh(tf.matmul(x,Wh) + bh)\n",
    "# Weights and biases to hidden layer\n",
    "Wo = tf.transpose(Wh) # tied weights\n",
    "bo = tf.Variable(tf.zeros([n_input]))\n",
    "y = tf.nn.tanh(tf.matmul(h,Wo) + bo)\n",
    "# Objective functions\n",
    "y_ = tf.placeholder(\"float\", [None,n_input])\n",
    "cross_entropy = -tf.reduce_sum(y_*tf.log(y))\n",
    "meansq = tf.reduce_mean(tf.square(y_-y))\n",
    "train_step = tf.train.GradientDescentOptimizer(0.05).minimize(meansq)\n",
    "\n",
    "init = tf.initialize_all_variables()\n",
    "sess = tf.Session()\n",
    "sess.run(init)\n",
    "\n",
    "n_rounds = 5000\n",
    "batch_size = min(50, n_samp)\n",
    "\n",
    "for i in range(n_rounds):\n",
    "    sample = np.random.randint(n_samp, size=batch_size)\n",
    "    batch_xs = input_data[sample][:]\n",
    "    batch_ys = output_data[sample][:]\n",
    "    sess.run(train_step, feed_dict={x: batch_xs, y_:batch_ys})\n",
    "    if i % 100 == 0:\n",
    "        print('{}, {}, {}'.format(i, sess.run(cross_entropy, feed_dict={x: batch_xs, y_:batch_ys}), sess.run(meansq, feed_dict={x: batch_xs, y_:batch_ys}))) "
   ]
  },
  {
   "cell_type": "code",
   "execution_count": null,
   "metadata": {},
   "outputs": [],
   "source": [
    "print \"Target:\"\n",
    "print output_data\n",
    "print \"Final activations:\"\n",
    "print sess.run(y, feed_dict={x: input_data})\n",
    "print \"Final weights (input => hidden layer)\"\n",
    "print sess.run(Wh)\n",
    "print \"Final biases (input => hidden layer)\"\n",
    "print sess.run(bh)\n",
    "print \"Final biases (hidden layer => output)\"\n",
    "print sess.run(bo)\n",
    "print \"Final activations of hidden layer\"\n",
    "print sess.run(h, feed_dict={x: input_data})"
   ]
  },
  {
   "cell_type": "code",
   "execution_count": null,
   "outputs": [],
   "source": [
    ""
   ]
  }
 ],
 "metadata": {
  "kernelspec": {
   "display_name": "Python 2",
   "language": "python",
   "name": "python2"
  },
  "language_info": {
   "codemirror_mode": {
    "name": "ipython",
    "version": 2.0
   },
   "file_extension": ".py",
   "mimetype": "text/x-python",
   "name": "python",
   "nbconvert_exporter": "python",
   "pygments_lexer": "ipython2",
   "version": "2.7.6"
  }
 },
 "nbformat": 4,
 "nbformat_minor": 0
}