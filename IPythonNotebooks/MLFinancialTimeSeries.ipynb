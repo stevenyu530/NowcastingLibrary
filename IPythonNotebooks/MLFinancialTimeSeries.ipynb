{
 "cells": [
  {
   "cell_type": "code",
   "execution_count": 110,
   "metadata": {
    "collapsed": true
   },
   "outputs": [],
   "source": [
    "import numpy as np\n",
    "import matplotlib.pyplot as plt\n",
    "import pandas as pd\n",
    "from pandas_datareader import data, wb\n",
    "from pandas.tools.plotting import autocorrelation_plot\n",
    "from pandas.tools.plotting import scatter_matrix\n",
    "import datetime"
   ]
  },
  {
   "cell_type": "heading",
   "metadata": {},
   "level": 2,
   "source": [
    "Get Index Data"
   ]
  },
  {
   "cell_type": "markdown",
   "metadata": {},
   "source": [
    "We will use pandas_datareader to read the last 5 years data for the S&P 500 (S&P), NYSE, Dow Jones Industrial Average (DJIA), Nikkei 225 (Nikkei), Hang Seng, FTSE 100 (FTSE), DAX, All Ordinaries (AORD) indices."
   ]
  },
  {
   "cell_type": "code",
   "execution_count": 111,
   "metadata": {},
   "outputs": [],
   "source": [
    "start = datetime.datetime(2011,1,1)\n",
    "end = datetime.datetime(2016,1,1)"
   ]
  },
  {
   "cell_type": "code",
   "execution_count": 102,
   "metadata": {},
   "outputs": [],
   "source": [
    "SP500 = data.DataReader (name=\"spn\", data_source='yahoo', start=start, end=end)\n",
    "NYSE = data.DataReader (name=\"^NYA\", data_source='yahoo', start=start, end=end)\n",
    "DAX = data.DataReader (name=\"^GDAXI\", data_source='yahoo', start=start, end=end)\n",
    "AORD = data.DataReader (name=\"^AORD\", data_source='yahoo', start=start, end=end)\n",
    "N225 = data.DataReader (name=\"^N225\", data_source='yahoo', start=start, end=end)\n",
    "HSI = data.DataReader (name=\"^HSI\", data_source='yahoo', start=start, end=end)\n",
    "FTSE = data.DataReader (name=\"^FTSE\", data_source='yahoo', start=start, end=end)\n",
    "DJI = data.DataReader (name=\"^DJI\", data_source='yahoo', start=start, end=end)"
   ]
  },
  {
   "cell_type": "code",
   "execution_count": null,
   "metadata": {},
   "outputs": [],
   "source": [
    "DJI.tail()"
   ]
  },
  {
   "cell_type": "code",
   "execution_count": null,
   "outputs": [],
   "source": [
    ""
   ]
  }
 ],
 "metadata": {
  "kernelspec": {
   "display_name": "Python 2",
   "language": "python",
   "name": "python2"
  },
  "language_info": {
   "codemirror_mode": {
    "name": "ipython",
    "version": 2.0
   },
   "file_extension": ".py",
   "mimetype": "text/x-python",
   "name": "python",
   "nbconvert_exporter": "python",
   "pygments_lexer": "ipython2",
   "version": "2.7.6"
  }
 },
 "nbformat": 4,
 "nbformat_minor": 0
}